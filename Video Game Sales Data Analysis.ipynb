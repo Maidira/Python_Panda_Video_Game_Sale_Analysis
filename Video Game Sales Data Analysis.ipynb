{
 "cells": [
  {
   "cell_type": "markdown",
   "id": "7293ec25",
   "metadata": {},
   "source": [
    "# Video Game Sales Data Analysis"
   ]
  },
  {
   "cell_type": "code",
   "execution_count": 1,
   "id": "30fa3ac3",
   "metadata": {},
   "outputs": [],
   "source": [
    "import pandas as pd\n",
    "import numpy as np\n",
    "import matplotlib.pyplot as plt\n",
    "import seaborn as sns"
   ]
  },
  {
   "cell_type": "code",
   "execution_count": 2,
   "id": "bab0f1c3",
   "metadata": {},
   "outputs": [],
   "source": [
    "file_path = \".................../Games sales dataset 2024/sales data.csv\""
   ]
  },
  {
   "cell_type": "code",
   "execution_count": 3,
   "id": "ef027049",
   "metadata": {},
   "outputs": [],
   "source": [
    "df = pd.read_csv(file_path)"
   ]
  },
  {
   "cell_type": "code",
   "execution_count": 4,
   "id": "cf22c24a",
   "metadata": {},
   "outputs": [
    {
     "data": {
      "text/html": [
       "<div>\n",
       "<style scoped>\n",
       "    .dataframe tbody tr th:only-of-type {\n",
       "        vertical-align: middle;\n",
       "    }\n",
       "\n",
       "    .dataframe tbody tr th {\n",
       "        vertical-align: top;\n",
       "    }\n",
       "\n",
       "    .dataframe thead th {\n",
       "        text-align: right;\n",
       "    }\n",
       "</style>\n",
       "<table border=\"1\" class=\"dataframe\">\n",
       "  <thead>\n",
       "    <tr style=\"text-align: right;\">\n",
       "      <th></th>\n",
       "      <th>img</th>\n",
       "      <th>title</th>\n",
       "      <th>console</th>\n",
       "      <th>genre</th>\n",
       "      <th>publisher</th>\n",
       "      <th>developer</th>\n",
       "      <th>critic_score</th>\n",
       "      <th>total_sales</th>\n",
       "      <th>na_sales</th>\n",
       "      <th>jp_sales</th>\n",
       "      <th>pal_sales</th>\n",
       "      <th>other_sales</th>\n",
       "      <th>release_date</th>\n",
       "      <th>last_update</th>\n",
       "    </tr>\n",
       "  </thead>\n",
       "  <tbody>\n",
       "    <tr>\n",
       "      <th>0</th>\n",
       "      <td>/games/boxart/full_6510540AmericaFrontccc.jpg</td>\n",
       "      <td>Grand Theft Auto V</td>\n",
       "      <td>PS3</td>\n",
       "      <td>Action</td>\n",
       "      <td>Rockstar Games</td>\n",
       "      <td>Rockstar North</td>\n",
       "      <td>9.4</td>\n",
       "      <td>20.32</td>\n",
       "      <td>6.37</td>\n",
       "      <td>0.99</td>\n",
       "      <td>9.85</td>\n",
       "      <td>3.12</td>\n",
       "      <td>2013-09-17</td>\n",
       "      <td>NaN</td>\n",
       "    </tr>\n",
       "    <tr>\n",
       "      <th>1</th>\n",
       "      <td>/games/boxart/full_5563178AmericaFrontccc.jpg</td>\n",
       "      <td>Grand Theft Auto V</td>\n",
       "      <td>PS4</td>\n",
       "      <td>Action</td>\n",
       "      <td>Rockstar Games</td>\n",
       "      <td>Rockstar North</td>\n",
       "      <td>9.7</td>\n",
       "      <td>19.39</td>\n",
       "      <td>6.06</td>\n",
       "      <td>0.60</td>\n",
       "      <td>9.71</td>\n",
       "      <td>3.02</td>\n",
       "      <td>2014-11-18</td>\n",
       "      <td>2018-01-03</td>\n",
       "    </tr>\n",
       "    <tr>\n",
       "      <th>2</th>\n",
       "      <td>/games/boxart/827563ccc.jpg</td>\n",
       "      <td>Grand Theft Auto: Vice City</td>\n",
       "      <td>PS2</td>\n",
       "      <td>Action</td>\n",
       "      <td>Rockstar Games</td>\n",
       "      <td>Rockstar North</td>\n",
       "      <td>9.6</td>\n",
       "      <td>16.15</td>\n",
       "      <td>8.41</td>\n",
       "      <td>0.47</td>\n",
       "      <td>5.49</td>\n",
       "      <td>1.78</td>\n",
       "      <td>2002-10-28</td>\n",
       "      <td>NaN</td>\n",
       "    </tr>\n",
       "    <tr>\n",
       "      <th>3</th>\n",
       "      <td>/games/boxart/full_9218923AmericaFrontccc.jpg</td>\n",
       "      <td>Grand Theft Auto V</td>\n",
       "      <td>X360</td>\n",
       "      <td>Action</td>\n",
       "      <td>Rockstar Games</td>\n",
       "      <td>Rockstar North</td>\n",
       "      <td>NaN</td>\n",
       "      <td>15.86</td>\n",
       "      <td>9.06</td>\n",
       "      <td>0.06</td>\n",
       "      <td>5.33</td>\n",
       "      <td>1.42</td>\n",
       "      <td>2013-09-17</td>\n",
       "      <td>NaN</td>\n",
       "    </tr>\n",
       "    <tr>\n",
       "      <th>4</th>\n",
       "      <td>/games/boxart/full_4990510AmericaFrontccc.jpg</td>\n",
       "      <td>Call of Duty: Black Ops 3</td>\n",
       "      <td>PS4</td>\n",
       "      <td>Shooter</td>\n",
       "      <td>Activision</td>\n",
       "      <td>Treyarch</td>\n",
       "      <td>8.1</td>\n",
       "      <td>15.09</td>\n",
       "      <td>6.18</td>\n",
       "      <td>0.41</td>\n",
       "      <td>6.05</td>\n",
       "      <td>2.44</td>\n",
       "      <td>2015-11-06</td>\n",
       "      <td>2018-01-14</td>\n",
       "    </tr>\n",
       "  </tbody>\n",
       "</table>\n",
       "</div>"
      ],
      "text/plain": [
       "                                             img                        title  \\\n",
       "0  /games/boxart/full_6510540AmericaFrontccc.jpg           Grand Theft Auto V   \n",
       "1  /games/boxart/full_5563178AmericaFrontccc.jpg           Grand Theft Auto V   \n",
       "2                    /games/boxart/827563ccc.jpg  Grand Theft Auto: Vice City   \n",
       "3  /games/boxart/full_9218923AmericaFrontccc.jpg           Grand Theft Auto V   \n",
       "4  /games/boxart/full_4990510AmericaFrontccc.jpg    Call of Duty: Black Ops 3   \n",
       "\n",
       "  console    genre       publisher       developer  critic_score  total_sales  \\\n",
       "0     PS3   Action  Rockstar Games  Rockstar North           9.4        20.32   \n",
       "1     PS4   Action  Rockstar Games  Rockstar North           9.7        19.39   \n",
       "2     PS2   Action  Rockstar Games  Rockstar North           9.6        16.15   \n",
       "3    X360   Action  Rockstar Games  Rockstar North           NaN        15.86   \n",
       "4     PS4  Shooter      Activision        Treyarch           8.1        15.09   \n",
       "\n",
       "   na_sales  jp_sales  pal_sales  other_sales release_date last_update  \n",
       "0      6.37      0.99       9.85         3.12   2013-09-17         NaN  \n",
       "1      6.06      0.60       9.71         3.02   2014-11-18  2018-01-03  \n",
       "2      8.41      0.47       5.49         1.78   2002-10-28         NaN  \n",
       "3      9.06      0.06       5.33         1.42   2013-09-17         NaN  \n",
       "4      6.18      0.41       6.05         2.44   2015-11-06  2018-01-14  "
      ]
     },
     "execution_count": 4,
     "metadata": {},
     "output_type": "execute_result"
    }
   ],
   "source": [
    "df.head()"
   ]
  },
  {
   "cell_type": "code",
   "execution_count": 5,
   "id": "bfd0d9df",
   "metadata": {},
   "outputs": [
    {
     "name": "stdout",
     "output_type": "stream",
     "text": [
      "<class 'pandas.core.frame.DataFrame'>\n",
      "RangeIndex: 64016 entries, 0 to 64015\n",
      "Data columns (total 14 columns):\n",
      " #   Column        Non-Null Count  Dtype  \n",
      "---  ------        --------------  -----  \n",
      " 0   img           64016 non-null  object \n",
      " 1   title         64016 non-null  object \n",
      " 2   console       64016 non-null  object \n",
      " 3   genre         64016 non-null  object \n",
      " 4   publisher     64016 non-null  object \n",
      " 5   developer     63999 non-null  object \n",
      " 6   critic_score  6678 non-null   float64\n",
      " 7   total_sales   18922 non-null  float64\n",
      " 8   na_sales      12637 non-null  float64\n",
      " 9   jp_sales      6726 non-null   float64\n",
      " 10  pal_sales     12824 non-null  float64\n",
      " 11  other_sales   15128 non-null  float64\n",
      " 12  release_date  56965 non-null  object \n",
      " 13  last_update   17879 non-null  object \n",
      "dtypes: float64(6), object(8)\n",
      "memory usage: 36.2 MB\n"
     ]
    }
   ],
   "source": [
    "df.info(memory_usage = \"deep\")"
   ]
  },
  {
   "cell_type": "code",
   "execution_count": 6,
   "id": "ca35e234",
   "metadata": {},
   "outputs": [],
   "source": [
    "df.fillna(0, inplace=True)"
   ]
  },
  {
   "cell_type": "markdown",
   "id": "8aa1bc9d",
   "metadata": {},
   "source": [
    "### Descriptive Statistics"
   ]
  },
  {
   "cell_type": "code",
   "execution_count": 7,
   "id": "ee45a1e1",
   "metadata": {},
   "outputs": [
    {
     "name": "stdout",
     "output_type": "stream",
     "text": [
      "title\n",
      "Grand Theft Auto V                64.29\n",
      "Call of Duty: Black Ops           30.99\n",
      "Call of Duty: Modern Warfare 3    30.71\n",
      "Call of Duty: Black Ops II        29.59\n",
      "Call of Duty: Ghosts              28.80\n",
      "Call of Duty: Black Ops 3         26.72\n",
      "Call of Duty: Modern Warfare 2    25.02\n",
      "Minecraft                         24.01\n",
      "Grand Theft Auto IV               22.53\n",
      "Call of Duty: Advanced Warfare    21.78\n",
      "Name: total_sales, dtype: float64\n"
     ]
    }
   ],
   "source": [
    "# Top 10 games by total global sales\n",
    "games_aggregated = df.groupby('title')['total_sales'].sum()\n",
    "top_10_titles = games_aggregated.sort_values(ascending=False).head(10)\n",
    "print(top_10_titles)"
   ]
  },
  {
   "cell_type": "code",
   "execution_count": 8,
   "id": "8bb747fb",
   "metadata": {},
   "outputs": [
    {
     "name": "stdout",
     "output_type": "stream",
     "text": [
      "title\n",
      "Fusion: Genesis                                                                  10.00\n",
      "The gamrReview Test Game                                                         10.00\n",
      "The Legend of Zelda Collector's Edition                                          10.00\n",
      "Super Mario Odyssey                                                               9.90\n",
      "Rockstar Games Double Pack: Grand Theft Auto III & Grand Theft Auto Vice City     9.75\n",
      "The Legend of Zelda: A Link to the Past                                           9.70\n",
      "Super Mario Galaxy 2                                                              9.70\n",
      "Super Mario Bros. Deluxe                                                          9.70\n",
      "NFL 2K                                                                            9.70\n",
      "Super Mario Galaxy                                                                9.70\n",
      "Name: critic_score, dtype: float64\n"
     ]
    }
   ],
   "source": [
    "# Top 10 games by Critic score\n",
    "reviews_mean = df.groupby('title')['critic_score'].mean()\n",
    "top_10_critic_score = reviews_mean.sort_values(ascending=False).head(10)\n",
    "print(top_10_critic_score)"
   ]
  },
  {
   "cell_type": "code",
   "execution_count": 9,
   "id": "eee9e4bd",
   "metadata": {},
   "outputs": [
    {
     "data": {
      "text/html": [
       "<div>\n",
       "<style scoped>\n",
       "    .dataframe tbody tr th:only-of-type {\n",
       "        vertical-align: middle;\n",
       "    }\n",
       "\n",
       "    .dataframe tbody tr th {\n",
       "        vertical-align: top;\n",
       "    }\n",
       "\n",
       "    .dataframe thead th {\n",
       "        text-align: right;\n",
       "    }\n",
       "</style>\n",
       "<table border=\"1\" class=\"dataframe\">\n",
       "  <thead>\n",
       "    <tr style=\"text-align: right;\">\n",
       "      <th></th>\n",
       "      <th>img</th>\n",
       "      <th>title</th>\n",
       "      <th>console</th>\n",
       "      <th>genre</th>\n",
       "      <th>publisher</th>\n",
       "      <th>developer</th>\n",
       "      <th>critic_score</th>\n",
       "      <th>total_sales</th>\n",
       "      <th>na_sales</th>\n",
       "      <th>jp_sales</th>\n",
       "      <th>pal_sales</th>\n",
       "      <th>other_sales</th>\n",
       "      <th>release_date</th>\n",
       "      <th>last_update</th>\n",
       "    </tr>\n",
       "  </thead>\n",
       "  <tbody>\n",
       "    <tr>\n",
       "      <th>45707</th>\n",
       "      <td>/games/boxart/full_3980311AmericaFrontccc.jpg</td>\n",
       "      <td>Super Mario Kart</td>\n",
       "      <td>SNES</td>\n",
       "      <td>Racing</td>\n",
       "      <td>Nintendo</td>\n",
       "      <td>Nintendo EAD</td>\n",
       "      <td>10.0</td>\n",
       "      <td>0.00</td>\n",
       "      <td>0.00</td>\n",
       "      <td>0.00</td>\n",
       "      <td>0.00</td>\n",
       "      <td>0.00</td>\n",
       "      <td>1992-09-01</td>\n",
       "      <td>0</td>\n",
       "    </tr>\n",
       "    <tr>\n",
       "      <th>19051</th>\n",
       "      <td>/games/boxart/full_final-fight_2AmericaFront.jpg</td>\n",
       "      <td>Final Fight</td>\n",
       "      <td>SNES</td>\n",
       "      <td>Action</td>\n",
       "      <td>Capcom</td>\n",
       "      <td>Capcom</td>\n",
       "      <td>10.0</td>\n",
       "      <td>0.00</td>\n",
       "      <td>0.00</td>\n",
       "      <td>0.00</td>\n",
       "      <td>0.00</td>\n",
       "      <td>0.00</td>\n",
       "      <td>1991-11-10</td>\n",
       "      <td>0</td>\n",
       "    </tr>\n",
       "    <tr>\n",
       "      <th>39841</th>\n",
       "      <td>/games/boxart/8972270ccc.jpg</td>\n",
       "      <td>Super Mario Bros.</td>\n",
       "      <td>NES</td>\n",
       "      <td>Platform</td>\n",
       "      <td>Nintendo</td>\n",
       "      <td>Nintendo EAD</td>\n",
       "      <td>10.0</td>\n",
       "      <td>0.00</td>\n",
       "      <td>0.00</td>\n",
       "      <td>0.00</td>\n",
       "      <td>0.00</td>\n",
       "      <td>0.00</td>\n",
       "      <td>1985-10-18</td>\n",
       "      <td>0</td>\n",
       "    </tr>\n",
       "    <tr>\n",
       "      <th>24660</th>\n",
       "      <td>/games/boxart/1323877ccc.jpg</td>\n",
       "      <td>The Legend of Zelda: A Link to the Past</td>\n",
       "      <td>SNES</td>\n",
       "      <td>Adventure</td>\n",
       "      <td>Nintendo</td>\n",
       "      <td>Nintendo EAD</td>\n",
       "      <td>10.0</td>\n",
       "      <td>0.00</td>\n",
       "      <td>0.00</td>\n",
       "      <td>0.00</td>\n",
       "      <td>0.00</td>\n",
       "      <td>0.00</td>\n",
       "      <td>1992-04-13</td>\n",
       "      <td>0</td>\n",
       "    </tr>\n",
       "    <tr>\n",
       "      <th>32178</th>\n",
       "      <td>/games/boxart/full_minecraft_1AmericaFront.png</td>\n",
       "      <td>Minecraft</td>\n",
       "      <td>PC</td>\n",
       "      <td>Misc</td>\n",
       "      <td>Mojang</td>\n",
       "      <td>Mojang AB</td>\n",
       "      <td>10.0</td>\n",
       "      <td>0.00</td>\n",
       "      <td>0.00</td>\n",
       "      <td>0.00</td>\n",
       "      <td>0.00</td>\n",
       "      <td>0.00</td>\n",
       "      <td>2010-05-10</td>\n",
       "      <td>2018-08-05</td>\n",
       "    </tr>\n",
       "    <tr>\n",
       "      <th>54102</th>\n",
       "      <td>/games/boxart/full_renegade-ops_735AmericaFron...</td>\n",
       "      <td>Renegade Ops</td>\n",
       "      <td>XBL</td>\n",
       "      <td>Shooter</td>\n",
       "      <td>Sega</td>\n",
       "      <td>Avalanche Studios</td>\n",
       "      <td>10.0</td>\n",
       "      <td>0.00</td>\n",
       "      <td>0.00</td>\n",
       "      <td>0.00</td>\n",
       "      <td>0.00</td>\n",
       "      <td>0.00</td>\n",
       "      <td>2011-09-14</td>\n",
       "      <td>0</td>\n",
       "    </tr>\n",
       "    <tr>\n",
       "      <th>19</th>\n",
       "      <td>/games/boxart/full_1729769AmericaFrontccc.jpg</td>\n",
       "      <td>Grand Theft Auto IV</td>\n",
       "      <td>PS3</td>\n",
       "      <td>Action</td>\n",
       "      <td>Rockstar Games</td>\n",
       "      <td>Rockstar North</td>\n",
       "      <td>10.0</td>\n",
       "      <td>10.57</td>\n",
       "      <td>4.79</td>\n",
       "      <td>0.44</td>\n",
       "      <td>3.73</td>\n",
       "      <td>1.62</td>\n",
       "      <td>2008-04-29</td>\n",
       "      <td>0</td>\n",
       "    </tr>\n",
       "    <tr>\n",
       "      <th>27438</th>\n",
       "      <td>/games/boxart/full_9811589AmericaFrontccc.jpg</td>\n",
       "      <td>The Legend of Zelda Collector's Edition</td>\n",
       "      <td>GC</td>\n",
       "      <td>Adventure</td>\n",
       "      <td>Nintendo</td>\n",
       "      <td>Nintendo Software Technology Corporation</td>\n",
       "      <td>10.0</td>\n",
       "      <td>0.00</td>\n",
       "      <td>0.00</td>\n",
       "      <td>0.00</td>\n",
       "      <td>0.00</td>\n",
       "      <td>0.00</td>\n",
       "      <td>2003-11-17</td>\n",
       "      <td>0</td>\n",
       "    </tr>\n",
       "    <tr>\n",
       "      <th>1191</th>\n",
       "      <td>/games/boxart/full_red-dead-redemption-undead-...</td>\n",
       "      <td>Red Dead Redemption: Undead Nightmare</td>\n",
       "      <td>PS3</td>\n",
       "      <td>Action</td>\n",
       "      <td>Rockstar Games</td>\n",
       "      <td>Rockstar San Diego</td>\n",
       "      <td>10.0</td>\n",
       "      <td>1.18</td>\n",
       "      <td>0.47</td>\n",
       "      <td>0.06</td>\n",
       "      <td>0.45</td>\n",
       "      <td>0.19</td>\n",
       "      <td>2010-11-23</td>\n",
       "      <td>0</td>\n",
       "    </tr>\n",
       "    <tr>\n",
       "      <th>16</th>\n",
       "      <td>/games/boxart/full_1182151AmericaFrontccc.jpg</td>\n",
       "      <td>Grand Theft Auto IV</td>\n",
       "      <td>X360</td>\n",
       "      <td>Action</td>\n",
       "      <td>Rockstar Games</td>\n",
       "      <td>Rockstar North</td>\n",
       "      <td>10.0</td>\n",
       "      <td>11.09</td>\n",
       "      <td>6.80</td>\n",
       "      <td>0.14</td>\n",
       "      <td>3.11</td>\n",
       "      <td>1.04</td>\n",
       "      <td>2008-04-29</td>\n",
       "      <td>0</td>\n",
       "    </tr>\n",
       "  </tbody>\n",
       "</table>\n",
       "</div>"
      ],
      "text/plain": [
       "                                                     img  \\\n",
       "45707      /games/boxart/full_3980311AmericaFrontccc.jpg   \n",
       "19051   /games/boxart/full_final-fight_2AmericaFront.jpg   \n",
       "39841                       /games/boxart/8972270ccc.jpg   \n",
       "24660                       /games/boxart/1323877ccc.jpg   \n",
       "32178     /games/boxart/full_minecraft_1AmericaFront.png   \n",
       "54102  /games/boxart/full_renegade-ops_735AmericaFron...   \n",
       "19         /games/boxart/full_1729769AmericaFrontccc.jpg   \n",
       "27438      /games/boxart/full_9811589AmericaFrontccc.jpg   \n",
       "1191   /games/boxart/full_red-dead-redemption-undead-...   \n",
       "16         /games/boxart/full_1182151AmericaFrontccc.jpg   \n",
       "\n",
       "                                         title console      genre  \\\n",
       "45707                         Super Mario Kart    SNES     Racing   \n",
       "19051                              Final Fight    SNES     Action   \n",
       "39841                        Super Mario Bros.     NES   Platform   \n",
       "24660  The Legend of Zelda: A Link to the Past    SNES  Adventure   \n",
       "32178                                Minecraft      PC       Misc   \n",
       "54102                             Renegade Ops     XBL    Shooter   \n",
       "19                         Grand Theft Auto IV     PS3     Action   \n",
       "27438  The Legend of Zelda Collector's Edition      GC  Adventure   \n",
       "1191     Red Dead Redemption: Undead Nightmare     PS3     Action   \n",
       "16                         Grand Theft Auto IV    X360     Action   \n",
       "\n",
       "            publisher                                 developer  critic_score  \\\n",
       "45707        Nintendo                              Nintendo EAD          10.0   \n",
       "19051          Capcom                                    Capcom          10.0   \n",
       "39841        Nintendo                              Nintendo EAD          10.0   \n",
       "24660        Nintendo                              Nintendo EAD          10.0   \n",
       "32178          Mojang                                 Mojang AB          10.0   \n",
       "54102            Sega                         Avalanche Studios          10.0   \n",
       "19     Rockstar Games                            Rockstar North          10.0   \n",
       "27438        Nintendo  Nintendo Software Technology Corporation          10.0   \n",
       "1191   Rockstar Games                        Rockstar San Diego          10.0   \n",
       "16     Rockstar Games                            Rockstar North          10.0   \n",
       "\n",
       "       total_sales  na_sales  jp_sales  pal_sales  other_sales release_date  \\\n",
       "45707         0.00      0.00      0.00       0.00         0.00   1992-09-01   \n",
       "19051         0.00      0.00      0.00       0.00         0.00   1991-11-10   \n",
       "39841         0.00      0.00      0.00       0.00         0.00   1985-10-18   \n",
       "24660         0.00      0.00      0.00       0.00         0.00   1992-04-13   \n",
       "32178         0.00      0.00      0.00       0.00         0.00   2010-05-10   \n",
       "54102         0.00      0.00      0.00       0.00         0.00   2011-09-14   \n",
       "19           10.57      4.79      0.44       3.73         1.62   2008-04-29   \n",
       "27438         0.00      0.00      0.00       0.00         0.00   2003-11-17   \n",
       "1191          1.18      0.47      0.06       0.45         0.19   2010-11-23   \n",
       "16           11.09      6.80      0.14       3.11         1.04   2008-04-29   \n",
       "\n",
       "      last_update  \n",
       "45707           0  \n",
       "19051           0  \n",
       "39841           0  \n",
       "24660           0  \n",
       "32178  2018-08-05  \n",
       "54102           0  \n",
       "19              0  \n",
       "27438           0  \n",
       "1191            0  \n",
       "16              0  "
      ]
     },
     "execution_count": 9,
     "metadata": {},
     "output_type": "execute_result"
    }
   ],
   "source": [
    "df.sort_values('critic_score', ascending=False).head(10)"
   ]
  },
  {
   "cell_type": "code",
   "execution_count": 10,
   "id": "adb1c5ac",
   "metadata": {},
   "outputs": [
    {
     "data": {
      "text/plain": [
       "count    64016.000000\n",
       "mean         0.103192\n",
       "std          0.466999\n",
       "min          0.000000\n",
       "25%          0.000000\n",
       "50%          0.000000\n",
       "75%          0.020000\n",
       "max         20.320000\n",
       "Name: total_sales, dtype: float64"
      ]
     },
     "execution_count": 10,
     "metadata": {},
     "output_type": "execute_result"
    }
   ],
   "source": [
    "df['total_sales'].describe()"
   ]
  },
  {
   "cell_type": "code",
   "execution_count": 11,
   "id": "a7b08402",
   "metadata": {},
   "outputs": [
    {
     "data": {
      "image/png": "[encoded data removed]",
      "text/plain": [
       "<Figure size 720x432 with 1 Axes>"
      ]
     },
     "metadata": {
      "needs_background": "light"
     },
     "output_type": "display_data"
    }
   ],
   "source": [
    "# Distribution of Total Sales\n",
    "\n",
    "games_aggregated = df.groupby('title')['total_sales'].sum()\n",
    "aggregated_sales = games_aggregated.sort_values(ascending=False)\n",
    "\n",
    "aggregated_sales_df = aggregated_sales.reset_index()\n",
    "aggregated_sales_df.columns = ['title', 'total_sales']  \n",
    "\n",
    "plt.figure(figsize=(10, 6))\n",
    "sns.histplot(aggregated_sales_df['total_sales'], bins=10, kde=True, color='blue')\n",
    "plt.title('Distribution of Total Sales (Aggregated by Game)')\n",
    "plt.xlabel('Total Sales (in millions)')\n",
    "plt.ylabel('Frequency')\n",
    "plt.show()\n"
   ]
  },
  {
   "cell_type": "code",
   "execution_count": 12,
   "id": "345cec09",
   "metadata": {},
   "outputs": [
    {
     "data": {
      "image/png": "[encoded data removed]",
      "text/plain": [
       "<Figure size 864x432 with 1 Axes>"
      ]
     },
     "metadata": {
      "needs_background": "light"
     },
     "output_type": "display_data"
    }
   ],
   "source": [
    "# Distribution of Critic Scores across Genres \n",
    "plt.figure(figsize=(12, 6))\n",
    "sns.boxplot(x='genre', y='critic_score', data=df, palette='Set2')\n",
    "plt.title('Critic Score Distribution by Genre')\n",
    "plt.xticks(rotation=45)\n",
    "plt.show()"
   ]
  },
  {
   "cell_type": "code",
   "execution_count": 13,
   "id": "6e1a2473",
   "metadata": {},
   "outputs": [
    {
     "data": {
      "image/png": "[encoded data removed]",
      "text/plain": [
       "<Figure size 864x432 with 1 Axes>"
      ]
     },
     "metadata": {
      "needs_background": "light"
     },
     "output_type": "display_data"
    }
   ],
   "source": [
    "# Distribution of Critic Scores across Consoles\n",
    "\n",
    "mean_scores = df.groupby('console')['critic_score'].mean().reset_index()\n",
    "\n",
    "# Sorting the consoles by mean critic_score and get the top 20\n",
    "top_20_consoles = mean_scores.sort_values(by='critic_score', ascending=False).head(20)['console']\n",
    "\n",
    "# Filter the original DataFrame to only include the top 20 consoles\n",
    "df_top_20 = df[df['console'].isin(top_20_consoles)]\n",
    "\n",
    "\n",
    "plt.figure(figsize=(12, 6))\n",
    "sns.boxplot(x='console', y='critic_score', data=df_top_20, palette='Set3')\n",
    "plt.title('Critic Score Distribution by Top 20 Consoles')\n",
    "plt.xticks(rotation=45)\n",
    "plt.show()\n"
   ]
  },
  {
   "cell_type": "code",
   "execution_count": 14,
   "id": "40bc520c",
   "metadata": {},
   "outputs": [
    {
     "name": "stdout",
     "output_type": "stream",
     "text": [
      "\n",
      "Low-Performing Games (Bottom 10% by Sales):\n",
      "                                              title  total_sales\n",
      "17570             Zero Escape: Virtue's Last Reward          0.0\n",
      "17571      Daitoshokan no Hitsujikai: Library Party          0.0\n",
      "17572                             Cendrillon palikA          0.0\n",
      "17573  Sanzen Sekai Yuugi: Re Multi Universe Myself          0.0\n",
      "17574                                       Clannad          0.0\n",
      "...                                             ...          ...\n",
      "64011                         XBlaze Lost: Memories          0.0\n",
      "64012                                  Yoru, Tomosu          0.0\n",
      "64013                                  Yoru, Tomosu          0.0\n",
      "64014               Yunohana SpRING! ~Mellow Times~          0.0\n",
      "64015              Yurukill: The Calumniation Games          0.0\n",
      "\n",
      "[46446 rows x 2 columns]\n"
     ]
    }
   ],
   "source": [
    "# Identify Low-Performing Games\n",
    "low_performers = df[df['total_sales'] <= df['total_sales'].quantile(0.1)]\n",
    "print(\"\\nLow-Performing Games (Bottom 10% by Sales):\")\n",
    "print(low_performers[['title', 'total_sales']])"
   ]
  },
  {
   "cell_type": "code",
   "execution_count": 15,
   "id": "347310d3",
   "metadata": {},
   "outputs": [
    {
     "name": "stdout",
     "output_type": "stream",
     "text": [
      "\n",
      "Games in the Top 25% by Sales (Aggregated Across Platforms):\n",
      "                                                title         genre  \\\n",
      "13724                              Grand Theft Auto V        Action   \n",
      "5266                          Call of Duty: Black Ops       Shooter   \n",
      "5281                   Call of Duty: Modern Warfare 3       Shooter   \n",
      "5273                       Call of Duty: Black Ops II       Shooter   \n",
      "5277                             Call of Duty: Ghosts       Shooter   \n",
      "...                                               ...           ...   \n",
      "20685                   Metal Saga: Hagane no Kisetsu  Role-Playing   \n",
      "12514  Future Card Buddyfight Mezase! Buddy Champion!      Strategy   \n",
      "6560                      Combat Mission: Shock Force      Strategy   \n",
      "6566          Combat Wings: The Great Battles of WWII    Simulation   \n",
      "26678                                        Raiden V        Action   \n",
      "\n",
      "                 publisher  total_sales  \n",
      "13724       Rockstar Games        64.29  \n",
      "5266            Activision        30.99  \n",
      "5281            Activision        30.71  \n",
      "5273            Activision        29.59  \n",
      "5277            Activision        28.80  \n",
      "...                    ...          ...  \n",
      "20685              Success         0.03  \n",
      "12514    FuRyu Corporation         0.03  \n",
      "6560   Paradox Interactive         0.03  \n",
      "6566      City Interactive         0.03  \n",
      "26678      UFO Interactive         0.03  \n",
      "\n",
      "[10219 rows x 4 columns]\n"
     ]
    }
   ],
   "source": [
    "# Sales Quartiles\n",
    "\n",
    "#Aggregating total sales across platforms by game title\n",
    "games_aggregated = df.groupby('title').agg({\n",
    "    'total_sales': 'sum',   # Sum up total sales across all platforms\n",
    "    'genre': 'first',       # Taking the first genre for each game\n",
    "    'publisher': 'first'    # Taking the first publisher for each game\n",
    "}).reset_index()\n",
    "\n",
    "#threshold for the top 25% of sales\n",
    "top_25_threshold = games_aggregated['total_sales'].quantile(0.75)\n",
    "\n",
    "#Filter for games in the top 25%\n",
    "top_25 = games_aggregated[games_aggregated['total_sales'] >= top_25_threshold]\n",
    "\n",
    "print(\"\\nGames in the Top 25% by Sales (Aggregated Across Platforms):\")\n",
    "print(top_25[['title', 'genre', 'publisher', 'total_sales']].sort_values(by='total_sales', ascending=False))\n"
   ]
  },
  {
   "cell_type": "code",
   "execution_count": 16,
   "id": "8767322b",
   "metadata": {},
   "outputs": [
    {
     "name": "stdout",
     "output_type": "stream",
     "text": [
      "\n",
      "Games in the Bottom 25% by Sales (Aggregated Across Platforms):\n",
      "                                                   title             genre  \\\n",
      "0                                              \"Nuke It\"           Shooter   \n",
      "26588                        Racer Mini Yonku: Japan Cup              Misc   \n",
      "26601                                        Rack N Ruin         Adventure   \n",
      "26600                                Racing Team Manager            Racing   \n",
      "26599                                         Racing Pak            Racing   \n",
      "...                                                  ...               ...   \n",
      "12923  Gamics Series Vol. 1: Yokoyama Mitsuteru - San...          Strategy   \n",
      "12922  Gamics Series Vol. 1: Yokoyama Mitsuteru - San...          Strategy   \n",
      "12921                              GamesAid: Triple Pack              Misc   \n",
      "12920                                     Games of Glory           Shooter   \n",
      "39797                                    レミロア~少女と異世界と魔導書  Action-Adventure   \n",
      "\n",
      "              publisher  total_sales  \n",
      "0         CrystalVision          0.0  \n",
      "26588            Konami          0.0  \n",
      "26601  Lyn And Line LLC          0.0  \n",
      "26600           Kalypso          0.0  \n",
      "26599             Atari          0.0  \n",
      "...                 ...          ...  \n",
      "12923        ASNetworks          0.0  \n",
      "12922        ASNetworks          0.0  \n",
      "12921      Mastertronic          0.0  \n",
      "12920    Lightbulb Crew          0.0  \n",
      "39797           Unknown          0.0  \n",
      "\n",
      "[27759 rows x 4 columns]\n"
     ]
    }
   ],
   "source": [
    "bottom_25_threshold = games_aggregated['total_sales'].quantile(0.25)\n",
    "\n",
    "#Filter for games in the top 25%\n",
    "bottom_25 = games_aggregated[games_aggregated['total_sales'] <= bottom_25_threshold]\n",
    "\n",
    "print(\"\\nGames in the Bottom 25% by Sales (Aggregated Across Platforms):\")\n",
    "print(bottom_25[['title', 'genre', 'publisher', 'total_sales']].sort_values(by='total_sales', ascending=False))"
   ]
  },
  {
   "cell_type": "markdown",
   "id": "dd17d1af",
   "metadata": {},
   "source": [
    "### Regional Insights"
   ]
  },
  {
   "cell_type": "code",
   "execution_count": 17,
   "id": "6a739ece",
   "metadata": {},
   "outputs": [
    {
     "name": "stdout",
     "output_type": "stream",
     "text": [
      "\n",
      "Regional Sales Contribution (%):\n",
      "na_sales       50.644347\n",
      "jp_sales       10.414008\n",
      "pal_sales      29.016895\n",
      "other_sales     9.856628\n",
      "dtype: float64\n"
     ]
    }
   ],
   "source": [
    "# Sales Contribution by Region\n",
    "regions = ['na_sales', 'jp_sales', 'pal_sales', 'other_sales']\n",
    "region_contribution = df[regions].sum() / df['total_sales'].sum() * 100\n",
    "print(\"\\nRegional Sales Contribution (%):\")\n",
    "print(region_contribution)"
   ]
  },
  {
   "cell_type": "code",
   "execution_count": 18,
   "id": "c5c5e9ea",
   "metadata": {},
   "outputs": [
    {
     "name": "stdout",
     "output_type": "stream",
     "text": [
      "\n",
      "Top 10 Games in Na Sales (Aggregated Across Consoles):\n",
      "                                  title  na_sales\n",
      "13724                Grand Theft Auto V     26.19\n",
      "5266            Call of Duty: Black Ops     17.65\n",
      "5281     Call of Duty: Modern Warfare 3     15.57\n",
      "5277               Call of Duty: Ghosts     15.06\n",
      "5273         Call of Duty: Black Ops II     14.12\n",
      "5280     Call of Duty: Modern Warfare 2     13.54\n",
      "5271          Call of Duty: Black Ops 3     12.82\n",
      "13719               Grand Theft Auto IV     11.60\n",
      "13995  Guitar Hero III: Legends of Rock     11.14\n",
      "5265     Call of Duty: Advanced Warfare     10.66\n",
      "\n",
      "Top 10 Games in Jp Sales (Aggregated Across Consoles):\n",
      "                                                   title  jp_sales\n",
      "15404                                     Hot Shots Golf      4.26\n",
      "20998                                          Minecraft      2.50\n",
      "26461                                    R.B.I. Baseball      2.05\n",
      "11311                        Famista '89 - Kaimaku Han!!      2.05\n",
      "11710                                 Final Fantasy XIII      1.88\n",
      "9577                                     Dragon Quest XI      1.82\n",
      "35722                     Tomodachi Collection: New Life      1.69\n",
      "32490                                    Super Puyo Puyo      1.69\n",
      "13724                                 Grand Theft Auto V      1.66\n",
      "23208  Ninja Hattori Kun: Ninja wa Shuugyou Degogiru ...      1.50\n",
      "\n",
      "Top 10 Games in Pal Sales (Aggregated Across Consoles):\n",
      "                                title  pal_sales\n",
      "13724              Grand Theft Auto V      28.14\n",
      "11029                         FIFA 15      12.45\n",
      "11028                         FIFA 14      12.14\n",
      "11032                         FIFA 17      12.07\n",
      "11033                         FIFA 18      11.78\n",
      "5281   Call of Duty: Modern Warfare 3      11.26\n",
      "5273       Call of Duty: Black Ops II      11.08\n",
      "11031                         FIFA 16      10.56\n",
      "11027                         FIFA 13      10.11\n",
      "5271        Call of Duty: Black Ops 3       9.76\n",
      "\n",
      "Top 10 Games in Other Sales (Aggregated Across Consoles):\n",
      "                                title  other_sales\n",
      "13724              Grand Theft Auto V         8.32\n",
      "5273       Call of Duty: Black Ops II         3.67\n",
      "5277             Call of Duty: Ghosts         3.65\n",
      "5271        Call of Duty: Black Ops 3         3.63\n",
      "11056                  FIFA Soccer 08         3.53\n",
      "25876       Pro Evolution Soccer 2008         3.51\n",
      "5266          Call of Duty: Black Ops         3.31\n",
      "5281   Call of Duty: Modern Warfare 3         3.26\n",
      "20998                       Minecraft         2.96\n",
      "5280   Call of Duty: Modern Warfare 2         2.95\n"
     ]
    }
   ],
   "source": [
    "# Regional Preferences\n",
    "aggregated_data = df.groupby('title').agg({\n",
    "    'na_sales': 'sum',        # Sum North America sales\n",
    "    'jp_sales': 'sum',        # Sum Japan sales\n",
    "    'pal_sales': 'sum',       # Sum Europe sales (PAL)\n",
    "    'other_sales': 'sum',     # Sum other region sales\n",
    "    'genre': 'first',         # Take the first genre for each game\n",
    "    'publisher': 'first'      # Take the first publisher for each game\n",
    "}).reset_index()\n",
    "\n",
    "regions = ['na_sales', 'jp_sales', 'pal_sales', 'other_sales']\n",
    "\n",
    "for region in regions:\n",
    "    top_games_region = aggregated_data.sort_values(region, ascending=False).head(10)\n",
    "    \n",
    "    print(f\"\\nTop 10 Games in {region.replace('_', ' ').title()} (Aggregated Across Consoles):\")\n",
    "    print(top_games_region[['title', region]])\n"
   ]
  },
  {
   "cell_type": "code",
   "execution_count": 19,
   "id": "4a9aa9eb",
   "metadata": {},
   "outputs": [
    {
     "name": "stdout",
     "output_type": "stream",
     "text": [
      "\n",
      "Most Popular Genres in Na Sales:\n",
      "genre\n",
      "Sports          607.47\n",
      "Action          589.69\n",
      "Shooter         528.27\n",
      "Misc            295.66\n",
      "Racing          269.72\n",
      "Platform        187.96\n",
      "Fighting        173.96\n",
      "Role-Playing    171.67\n",
      "Adventure       157.26\n",
      "Simulation      152.84\n",
      "Name: na_sales, dtype: float64\n",
      "\n",
      "Most Popular Genres in Jp Sales:\n",
      "genre\n",
      "Role-Playing    130.56\n",
      "Sports          109.27\n",
      "Action           80.30\n",
      "Fighting         58.61\n",
      "Misc             56.24\n",
      "Adventure        46.11\n",
      "Strategy         36.80\n",
      "Simulation       35.98\n",
      "Shooter          33.99\n",
      "Platform         31.08\n",
      "Name: jp_sales, dtype: float64\n",
      "\n",
      "Most Popular Genres in Pal Sales:\n",
      "genre\n",
      "Action          342.52\n",
      "Sports          341.92\n",
      "Shooter         324.74\n",
      "Racing          179.14\n",
      "Misc            146.71\n",
      "Platform         99.39\n",
      "Adventure        91.52\n",
      "Role-Playing     91.02\n",
      "Simulation       86.86\n",
      "Fighting         79.84\n",
      "Name: pal_sales, dtype: float64\n",
      "\n",
      "Most Popular Genres in Other Sales:\n",
      "genre\n",
      "Sports          128.19\n",
      "Action          112.41\n",
      "Shooter         108.43\n",
      "Misc             58.52\n",
      "Racing           56.44\n",
      "Role-Playing     33.75\n",
      "Platform         30.38\n",
      "Adventure        30.11\n",
      "Fighting         28.65\n",
      "Simulation       24.34\n",
      "Name: other_sales, dtype: float64\n"
     ]
    }
   ],
   "source": [
    "# Genres Preferred in Each Region\n",
    "for region in regions:\n",
    "    genre_region = df.groupby('genre')[region].sum().sort_values(ascending=False).head(10)\n",
    "    print(f\"\\nMost Popular Genres in {region.replace('_', ' ').title()}:\")\n",
    "    print(genre_region)"
   ]
  },
  {
   "cell_type": "code",
   "execution_count": 20,
   "id": "454358f3",
   "metadata": {},
   "outputs": [
    {
     "name": "stdout",
     "output_type": "stream",
     "text": [
      "\n",
      "Average Critic Score for Games in Na Sales: 2.11\n",
      "\n",
      "Average Critic Score for Games in Jp Sales: 1.56\n",
      "\n",
      "Average Critic Score for Games in Pal Sales: 2.28\n",
      "\n",
      "Average Critic Score for Games in Other Sales: 2.28\n"
     ]
    }
   ],
   "source": [
    "# Regional Critic Scores\n",
    "for region in regions:\n",
    "    avg_critic_score = df[df[region] > 0]['critic_score'].mean()\n",
    "    print(f\"\\nAverage Critic Score for Games in {region.replace('_', ' ').title()}: {avg_critic_score:.2f}\")"
   ]
  },
  {
   "cell_type": "markdown",
   "id": "5f776dbf",
   "metadata": {},
   "source": [
    "### Console-Specific Analysis"
   ]
  },
  {
   "cell_type": "code",
   "execution_count": 21,
   "id": "45bd8735",
   "metadata": {},
   "outputs": [
    {
     "name": "stdout",
     "output_type": "stream",
     "text": [
      "\n",
      "Console Rankings by Total Sales:\n",
      "console\n",
      "PS2     1027.76\n",
      "X360     859.79\n",
      "PS3      839.70\n",
      "PS       546.25\n",
      "PS4      539.92\n",
      "         ...   \n",
      "CDi        0.00\n",
      "CD32       0.00\n",
      "PS5        0.00\n",
      "C64        0.00\n",
      "iQue       0.00\n",
      "Name: total_sales, Length: 81, dtype: float64\n"
     ]
    }
   ],
   "source": [
    "console_sales = df.groupby('console')['total_sales'].sum().sort_values(ascending=False)\n",
    "print(\"\\nConsole Rankings by Total Sales:\")\n",
    "print(console_sales)"
   ]
  },
  {
   "cell_type": "code",
   "execution_count": 22,
   "id": "eab13ba3",
   "metadata": {},
   "outputs": [
    {
     "name": "stdout",
     "output_type": "stream",
     "text": [
      "\n",
      "Exclusive Titles and Their Performance:\n",
      "                         title console  total_sales\n",
      "24137                  Pac-Man     FDS          0.0\n",
      "25038  A Mind Forever Voyaging    C128          0.0\n",
      "34228                    Elite     Aco          0.0\n",
      "34229                    Elite    BBCM          0.0\n"
     ]
    }
   ],
   "source": [
    "# Exclusive Titles\n",
    "exclusive_titles = df[df['console'].duplicated(keep=False) == False]\n",
    "print(\"\\nExclusive Titles and Their Performance:\")\n",
    "print(exclusive_titles[['title', 'console', 'total_sales']])"
   ]
  },
  {
   "cell_type": "markdown",
   "id": "bf5da1fd",
   "metadata": {},
   "source": [
    "### Release Date Analysis"
   ]
  },
  {
   "cell_type": "code",
   "execution_count": 23,
   "id": "d07975fd",
   "metadata": {},
   "outputs": [
    {
     "name": "stdout",
     "output_type": "stream",
     "text": [
      "\n",
      "Yearly Game Releases and Sales:\n",
      "release_year\n",
      "1970      6.59\n",
      "1971      0.00\n",
      "1973      0.00\n",
      "1975      0.00\n",
      "1977      2.50\n",
      "1978      2.36\n",
      "1979      0.31\n",
      "1980      2.26\n",
      "1981      7.73\n",
      "1982     28.99\n",
      "1983     22.68\n",
      "1984      4.85\n",
      "1985      2.19\n",
      "1986     10.35\n",
      "1987      5.59\n",
      "1988      8.73\n",
      "1989      9.12\n",
      "1990      9.07\n",
      "1991      6.05\n",
      "1992      9.38\n",
      "1993     20.16\n",
      "1994     36.85\n",
      "1995     52.98\n",
      "1996    101.36\n",
      "1997    105.89\n",
      "1998    132.23\n",
      "1999    169.61\n",
      "2000    171.12\n",
      "2001    226.75\n",
      "2002    314.50\n",
      "2003    300.89\n",
      "2004    284.68\n",
      "2005    313.48\n",
      "2006    244.42\n",
      "2007    436.39\n",
      "2008    538.11\n",
      "2009    495.36\n",
      "2010    454.02\n",
      "2011    440.32\n",
      "2012    285.47\n",
      "2013    266.00\n",
      "2014    292.11\n",
      "2015    230.45\n",
      "2016    208.02\n",
      "2017    191.96\n",
      "2018    148.03\n",
      "Name: total_sales, dtype: float64\n"
     ]
    }
   ],
   "source": [
    "# Yearly Game Releases and Sales\n",
    "\n",
    "df['release_year'] = pd.to_datetime(df['release_date'], errors='coerce').dt.year\n",
    "\n",
    "df_filtered = df[df['release_year'] <= 2018]\n",
    "yearly_sales = df_filtered.groupby('release_year')['total_sales'].sum()\n",
    "print(\"\\nYearly Game Releases and Sales:\")\n",
    "print(yearly_sales)\n"
   ]
  },
  {
   "cell_type": "code",
   "execution_count": 24,
   "id": "cc3e5a94",
   "metadata": {},
   "outputs": [
    {
     "data": {
      "image/png": "[encoded data removed]",
      "text/plain": [
       "<Figure size 720x432 with 1 Axes>"
      ]
     },
     "metadata": {
      "needs_background": "light"
     },
     "output_type": "display_data"
    }
   ],
   "source": [
    "# Visualization\n",
    "plt.figure(figsize=(10, 6))\n",
    "yearly_sales.plot(kind='bar', color='purple')\n",
    "plt.title('Yearly Game Releases and Sales')\n",
    "plt.xlabel('Year')\n",
    "plt.ylabel('Total Sales (in millions)')\n",
    "plt.show()"
   ]
  },
  {
   "cell_type": "markdown",
   "id": "08d36839",
   "metadata": {},
   "source": [
    "### Critic Score Analysis"
   ]
  },
  {
   "cell_type": "code",
   "execution_count": 25,
   "id": "0bfdb143",
   "metadata": {},
   "outputs": [
    {
     "name": "stdout",
     "output_type": "stream",
     "text": [
      "\n",
      "Correlation between Critic Score and Total Sales: 0.28\n"
     ]
    }
   ],
   "source": [
    "# Correlation between Scores and Sales\n",
    "correlation = df['critic_score'].corr(df['total_sales'])\n",
    "print(f\"\\nCorrelation between Critic Score and Total Sales: {correlation:.2f}\")"
   ]
  },
  {
   "cell_type": "markdown",
   "id": "0e10e3d6",
   "metadata": {},
   "source": [
    "### Genre Trends"
   ]
  },
  {
   "cell_type": "code",
   "execution_count": 26,
   "id": "3a36cce3",
   "metadata": {},
   "outputs": [
    {
     "name": "stdout",
     "output_type": "stream",
     "text": [
      "\n",
      "Genre Rankings by Total Sales:\n",
      "genre\n",
      "Sports              1187.51\n",
      "Action              1125.89\n",
      "Shooter              995.50\n",
      "Misc                 557.79\n",
      "Racing               525.75\n",
      "Role-Playing         426.80\n",
      "Platform             349.15\n",
      "Fighting             341.13\n",
      "Adventure            325.39\n",
      "Simulation           300.65\n",
      "Action-Adventure     148.52\n",
      "Puzzle               127.28\n",
      "Strategy             118.31\n",
      "Music                 51.75\n",
      "MMO                    9.31\n",
      "Party                  6.21\n",
      "Visual Novel           5.78\n",
      "Sandbox                1.89\n",
      "Education              0.97\n",
      "Board Game             0.33\n",
      "Name: total_sales, dtype: float64\n"
     ]
    }
   ],
   "source": [
    "genre_sales = df.groupby('genre')['total_sales'].sum().sort_values(ascending=False)\n",
    "print(\"\\nGenre Rankings by Total Sales:\")\n",
    "print(genre_sales)"
   ]
  },
  {
   "cell_type": "code",
   "execution_count": 27,
   "id": "101f2419",
   "metadata": {},
   "outputs": [
    {
     "data": {
      "image/png": "[encoded data removed]",
      "text/plain": [
       "<Figure size 864x432 with 1 Axes>"
      ]
     },
     "metadata": {
      "needs_background": "light"
     },
     "output_type": "display_data"
    }
   ],
   "source": [
    "plt.figure(figsize=(12, 6))\n",
    "genre_sales.plot(kind='bar', color='orange')\n",
    "plt.title('Genre Rankings by Total Sales')\n",
    "plt.xlabel('Genre')\n",
    "plt.ylabel('Total Sales (in millions)')\n",
    "plt.show()"
   ]
  },
  {
   "cell_type": "markdown",
   "id": "b3a3f88b",
   "metadata": {},
   "source": [
    "### Publisher/Developer Insights"
   ]
  },
  {
   "cell_type": "code",
   "execution_count": 28,
   "id": "8dbfbfcc",
   "metadata": {},
   "outputs": [
    {
     "name": "stdout",
     "output_type": "stream",
     "text": [
      "\n",
      "Top Publishers by Total Sales:\n",
      "publisher\n",
      "Activision                     722.77\n",
      "Electronic Arts                644.13\n",
      "EA Sports                      485.66\n",
      "Ubisoft                        462.57\n",
      "THQ                            320.89\n",
      "Sony Computer Entertainment    311.08\n",
      "Rockstar Games                 239.67\n",
      "Konami                         210.70\n",
      "Sega                           206.38\n",
      "Nintendo                       140.80\n",
      "Name: total_sales, dtype: float64\n"
     ]
    }
   ],
   "source": [
    "publisher_sales = df.groupby('publisher')['total_sales'].sum().sort_values(ascending=False)\n",
    "print(\"\\nTop Publishers by Total Sales:\")\n",
    "print(publisher_sales.head(10))"
   ]
  },
  {
   "cell_type": "code",
   "execution_count": 29,
   "id": "48fc4469",
   "metadata": {},
   "outputs": [
    {
     "data": {
      "text/plain": [
       "publisher\n",
       "Bimboosoft                   9.400000\n",
       "2D Boy                       9.200000\n",
       "Psyonix Studios              9.200000\n",
       "Number None                  9.050000\n",
       "Mad Monkey Studio            9.000000\n",
       "Drool                        9.000000\n",
       "Villa Gorilla                9.000000\n",
       "Nayantara Studios            8.800000\n",
       "Sam Barlow                   8.700000\n",
       "QCF Design                   8.500000\n",
       "Skydance Interactive         8.500000\n",
       "Pelfast                      8.500000\n",
       "Carpe Fulgur                 8.300000\n",
       "YuPlay                       8.300000\n",
       "Hidden Path Entertainment    8.250000\n",
       "Lionhead Studios             8.200000\n",
       "LDW                          8.200000\n",
       "Honeyslug                    8.000000\n",
       "Introversion                 8.000000\n",
       "Twisted Tree                 8.000000\n",
       "Maxistentialism              8.000000\n",
       "Queasy Games                 8.000000\n",
       "Uber Entertainment           8.000000\n",
       "Square EA                    7.930769\n",
       "Hemisphere Games             7.800000\n",
       "Sarbakan                     7.800000\n",
       "Terry Cavanagh               7.800000\n",
       "Naked Sky Entertainment      7.500000\n",
       "Xform                        7.500000\n",
       "Kloonigames                  7.500000\n",
       "Name: critic_score, dtype: float64"
      ]
     },
     "execution_count": 29,
     "metadata": {},
     "output_type": "execute_result"
    }
   ],
   "source": [
    "df.groupby('publisher')['critic_score'].mean().sort_values(ascending=False).head(30)"
   ]
  }
 ],
 "metadata": {
  "kernelspec": {
   "display_name": "Python 3 (ipykernel)",
   "language": "python",
   "name": "python3"
  },
  "language_info": {
   "codemirror_mode": {
    "name": "ipython",
    "version": 3
   },
   "file_extension": ".py",
   "mimetype": "text/x-python",
   "name": "python",
   "nbconvert_exporter": "python",
   "pygments_lexer": "ipython3",
   "version": "3.9.12"
  }
 },
 "nbformat": 4,
 "nbformat_minor": 5
}
